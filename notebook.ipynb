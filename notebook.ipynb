{
  "nbformat": 4,
  "nbformat_minor": 0,
  "metadata": {
    "colab": {
      "name": "notebook.ipynb",
      "provenance": [],
      "collapsed_sections": []
    },
    "kernelspec": {
      "name": "python3",
      "display_name": "Python 3"
    },
    "language_info": {
      "name": "python"
    },
    "accelerator": "GPU"
  },
  "cells": [
    {
      "cell_type": "code",
      "metadata": {
        "id": "jIpeZTtKwEX6"
      },
      "source": [
        "#@title Input{display-mode: \"form\"}\n",
        "Name = 'MAI Signature' #@param {type:\"string\"}\n",
        "Moderne_abstrakte_Kunst = 5 #@param {type:\"slider\", min:0, max:20, step:1}\n",
        "Zahl_der_Beispiele= 6 #@param {type:\"slider\", min:1, max:20, step:1}"
      ],
      "execution_count": 18,
      "outputs": []
    },
    {
      "cell_type": "code",
      "metadata": {
        "id": "PJoRFVAWy_VH"
      },
      "source": [
        "#@title Dateien vorbereiten {display-mode: \"form\"}\n",
        "! git clone https://github.com/hansomatig/handwriting-synthesis.git\n",
        "% cd handwriting-synthesis\n",
        "! git checkout TFConV1toV2"
      ],
      "execution_count": null,
      "outputs": []
    },
    {
      "cell_type": "code",
      "metadata": {
        "id": "mPC56QrfzeOn"
      },
      "source": [
        "#@title Zusätzliche Module installieren{display-mode: \"form\"}\n",
        "! pip install svgwrite\n",
        "! pip install cairosvg"
      ],
      "execution_count": null,
      "outputs": []
    },
    {
      "cell_type": "code",
      "metadata": {
        "id": "DtlFjqItQ20X"
      },
      "source": [
        "#@title Autoreload{display-mode: \"form\"}\n",
        "%load_ext autoreload\n",
        "%autoreload 2\n",
        "from demo import Hand"
      ],
      "execution_count": 6,
      "outputs": []
    },
    {
      "cell_type": "code",
      "metadata": {
        "id": "HSziAJHo3pxp"
      },
      "source": [
        "#@title Tensorflow einrichten {display-mode: \"form\"}\n",
        "import tensorflow as tf\n",
        "tf.compat.v1.disable_eager_execution()\n",
        "tf.compat.v1.logging.set_verbosity(tf.compat.v1.logging.ERROR)"
      ],
      "execution_count": 7,
      "outputs": []
    },
    {
      "cell_type": "code",
      "metadata": {
        "id": "Hk9QJaM-gtN_"
      },
      "source": [
        "#@title Generator{display-mode: \"form\"}\n",
        "from IPython.display import display, Image\n",
        "import cairosvg\n",
        "from keras.models import load_model\n",
        "import PIL\n",
        "import numpy as np\n",
        "\n",
        "model = load_model('keras_model.h5')\n",
        "\n",
        "lines = [\" \"*Moderne_abstrakte_Kunst + Name]\n",
        "biases = [2.5 for i in lines]\n",
        "styles = [4 for i in lines]\n",
        "hand = Hand()\n",
        "predictions = {}\n",
        "\n",
        "for i in range(10):\n",
        "    hand.write(\n",
        "        filename=f'img/img{i}.svg',\n",
        "        lines=lines,\n",
        "        styles=styles,\n",
        "        biases=biases,\n",
        "    )\n",
        "    cairosvg.svg2png(url=f'img/img{i}.svg', write_to=f'img/png{i}.png')\n",
        "\n",
        "    data = np.ndarray(shape=(1, 224, 224, 3), dtype=np.float32)\n",
        "    image = PIL.Image.open(f'img/png{i}.png')\n",
        "    image = PIL.ImageOps.fit(image, (224, 224), PIL.Image.ANTIALIAS)\n",
        "    image_array = np.asarray(image)\n",
        "    normalized_image_array = (image_array.astype(np.float32) / 127.0) - 1\n",
        "    data[0] = normalized_image_array\n",
        "\n",
        "    prediction = model.predict(data)\n",
        "    predictions[i] = prediction[0][0]\n",
        "\n",
        "predictions = sorted(predictions.items(), key=lambda x: x[1], reverse=True)"
      ],
      "execution_count": null,
      "outputs": []
    },
    {
      "cell_type": "code",
      "metadata": {
        "id": "2WIpMA79zkkL"
      },
      "source": [
        "#@title Bestergebnisse anzeigen{display-mode: \"form\"}\n",
        "import ipywidgets as widgets\n",
        "from IPython.display import display\n",
        "import functools\n",
        "\n",
        "output = widgets.Output()\n",
        "def on_button_clicked(b, path=''):\n",
        "    with output:\n",
        "        from google.colab import files\n",
        "        files.download(filename=f'img/png{path}.png')\n",
        "\n",
        "for i in range(Zahl_der_Beispiele):\n",
        "    print(str(predictions[i][1]*100) + '%')\n",
        "    display(Image(filename=f'img/png{predictions[i][0]}.png'))\n",
        "    button = widgets.Button(description=\"Download\", layout=widgets.Layout(width='50%', height='30px', display=\"inline-box\", border=\"solid\", margin='0 0 50px 0'))\n",
        "    output = widgets.Output()\n",
        "    button.on_click(functools.partial(on_button_clicked, path=predictions[i][0]))\n",
        "    display(button, output)"
      ],
      "execution_count": null,
      "outputs": []
    }
  ]
}
