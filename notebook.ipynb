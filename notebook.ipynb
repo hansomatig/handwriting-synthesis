{
  "nbformat": 4,
  "nbformat_minor": 0,
  "metadata": {
    "colab": {
      "name": "notebook.ipynb",
      "provenance": [],
      "collapsed_sections": [],
      "include_colab_link": true
    },
    "kernelspec": {
      "name": "python3",
      "display_name": "Python 3"
    },
    "language_info": {
      "name": "python"
    },
    "accelerator": "GPU"
  },
  "cells": [
    {
      "cell_type": "markdown",
      "metadata": {
        "id": "view-in-github",
        "colab_type": "text"
      },
      "source": [
        "<a href=\"https://colab.research.google.com/github/hansomatig/handwriting-synthesis/blob/TFConV1toV2/notebook.ipynb\" target=\"_parent\"><img src=\"https://colab.research.google.com/assets/colab-badge.svg\" alt=\"Open In Colab\"/></a>"
      ]
    },
    {
      "cell_type": "markdown",
      "metadata": {
        "id": "mlbm_aXNgv4H"
      },
      "source": [
        "Git importieren\n"
      ]
    },
    {
      "cell_type": "code",
      "metadata": {
        "id": "PJoRFVAWy_VH",
        "outputId": "f2de9c7b-6696-49a8-8a3f-447bf621b437",
        "colab": {
          "base_uri": "https://localhost:8080/"
        }
      },
      "source": [
        "! git clone https://github.com/hansomatig/handwriting-synthesis.git"
      ],
      "execution_count": 88,
      "outputs": [
        {
          "output_type": "stream",
          "text": [
            "Cloning into 'handwriting-synthesis'...\n",
            "remote: Enumerating objects: 184, done.\u001b[K\n",
            "remote: Counting objects: 100% (184/184), done.\u001b[K\n",
            "remote: Compressing objects: 100% (126/126), done.\u001b[K\n",
            "remote: Total 184 (delta 70), reused 134 (delta 52), pack-reused 0\u001b[K\n",
            "Receiving objects: 100% (184/184), 43.62 MiB | 24.22 MiB/s, done.\n",
            "Resolving deltas: 100% (70/70), done.\n"
          ],
          "name": "stdout"
        }
      ]
    },
    {
      "cell_type": "code",
      "metadata": {
        "id": "my8UTOMHzJ7G"
      },
      "source": [
        "% cd handwriting-synthesis"
      ],
      "execution_count": null,
      "outputs": []
    },
    {
      "cell_type": "code",
      "metadata": {
        "id": "K5orOCBNzL3W"
      },
      "source": [
        "! git checkout TFConV1toV2"
      ],
      "execution_count": null,
      "outputs": []
    },
    {
      "cell_type": "code",
      "metadata": {
        "id": "mPC56QrfzeOn"
      },
      "source": [
        "! pip install svgwrite"
      ],
      "execution_count": null,
      "outputs": []
    },
    {
      "cell_type": "code",
      "metadata": {
        "id": "zM_nFdA3zQTx"
      },
      "source": [
        "%load_ext autoreload\n",
        "%autoreload 2\n",
        "from demo import Hand"
      ],
      "execution_count": null,
      "outputs": []
    },
    {
      "cell_type": "code",
      "metadata": {
        "id": "HSziAJHo3pxp"
      },
      "source": [
        "import tensorflow as tf\n",
        "tf.compat.v1.disable_eager_execution()"
      ],
      "execution_count": null,
      "outputs": []
    },
    {
      "cell_type": "markdown",
      "metadata": {
        "id": "gDjqnzmggrNm"
      },
      "source": [
        "Model importieren\n",
        "\n"
      ]
    },
    {
      "cell_type": "code",
      "metadata": {
        "id": "Hk9QJaM-gtN_",
        "outputId": "8827f5dc-1f1c-4618-871c-3d4189bf9b2b",
        "colab": {
          "base_uri": "https://localhost:8080/",
          "height": 510
        }
      },
      "source": [
        "from IPython.display import display, Image\n",
        "import cairosvg\n",
        "from keras.models import load_model\n",
        "import PIL\n",
        "import numpy as np\n",
        "\n",
        "model = load_model('keras_model.h5')\n",
        "\n",
        "lines = [\"   Nick Pawlowski\"]\n",
        "biases = [2.5 for i in lines]\n",
        "styles = [4 for i in lines]\n",
        "hand = Hand()\n",
        "predictions = {}\n",
        "\n",
        "for i in range(20):\n",
        "    hand.write(\n",
        "        filename=f'img/img{i}.svg',\n",
        "        lines=lines,\n",
        "        styles=styles,\n",
        "        biases=biases,\n",
        "    )\n",
        "    cairosvg.svg2png(url=f'img/img{i}.svg', write_to=f'img/png{i}.png')\n",
        "\n",
        "    data = np.ndarray(shape=(1, 224, 224, 3), dtype=np.float32)\n",
        "    image = PIL.Image.open(f'img/png{i}.png')\n",
        "    image = PIL.ImageOps.fit(image, (224, 224), PIL.Image.ANTIALIAS)\n",
        "    image_array = np.asarray(image)\n",
        "    normalized_image_array = (image_array.astype(np.float32) / 127.0) - 1\n",
        "    data[0] = normalized_image_array\n",
        "\n",
        "    prediction = model.predict(data)\n",
        "    predictions[i] = prediction[0][0]\n",
        "    print(f'{i}/20')\n",
        "\n",
        "predictions = sorted(predictions.items(), key=lambda x: x[1], reverse=True)\n",
        "\n",
        "for i in range(3):\n",
        "    print(predictions[i][1]*100, '%')\n",
        "    display(Image(filename=f'img/png{predictions[i][0]}.png'))"
      ],
      "execution_count": 89,
      "outputs": [
        {
          "output_type": "stream",
          "text": [
            "WARNING:tensorflow:No training configuration found in the save file, so the model was *not* compiled. Compile it manually.\n"
          ],
          "name": "stdout"
        },
        {
          "output_type": "stream",
          "text": [
            "No training configuration found in the save file, so the model was *not* compiled. Compile it manually.\n",
            "No training configuration found in the save file, so the model was *not* compiled. Compile it manually.\n",
            "No training configuration found in the save file, so the model was *not* compiled. Compile it manually.\n",
            "No training configuration found in the save file, so the model was *not* compiled. Compile it manually.\n",
            "No training configuration found in the save file, so the model was *not* compiled. Compile it manually.\n",
            "No training configuration found in the save file, so the model was *not* compiled. Compile it manually.\n",
            "No training configuration found in the save file, so the model was *not* compiled. Compile it manually.\n"
          ],
          "name": "stderr"
        },
        {
          "output_type": "error",
          "ename": "TypeError",
          "evalue": "ignored",
          "traceback": [
            "\u001b[0;31m---------------------------------------------------------------------------\u001b[0m",
            "\u001b[0;31mTypeError\u001b[0m                                 Traceback (most recent call last)",
            "\u001b[0;32m<ipython-input-89-b36568ea588f>\u001b[0m in \u001b[0;36m<module>\u001b[0;34m()\u001b[0m\n\u001b[1;32m     10\u001b[0m \u001b[0mbiases\u001b[0m \u001b[0;34m=\u001b[0m \u001b[0;34m[\u001b[0m\u001b[0;36m2.5\u001b[0m \u001b[0;32mfor\u001b[0m \u001b[0mi\u001b[0m \u001b[0;32min\u001b[0m \u001b[0mlines\u001b[0m\u001b[0;34m]\u001b[0m\u001b[0;34m\u001b[0m\u001b[0;34m\u001b[0m\u001b[0m\n\u001b[1;32m     11\u001b[0m \u001b[0mstyles\u001b[0m \u001b[0;34m=\u001b[0m \u001b[0;34m[\u001b[0m\u001b[0;36m4\u001b[0m \u001b[0;32mfor\u001b[0m \u001b[0mi\u001b[0m \u001b[0;32min\u001b[0m \u001b[0mlines\u001b[0m\u001b[0;34m]\u001b[0m\u001b[0;34m\u001b[0m\u001b[0;34m\u001b[0m\u001b[0m\n\u001b[0;32m---> 12\u001b[0;31m \u001b[0mhand\u001b[0m \u001b[0;34m=\u001b[0m \u001b[0mHand\u001b[0m\u001b[0;34m(\u001b[0m\u001b[0;34m)\u001b[0m\u001b[0;34m\u001b[0m\u001b[0;34m\u001b[0m\u001b[0m\n\u001b[0m\u001b[1;32m     13\u001b[0m \u001b[0mpredictions\u001b[0m \u001b[0;34m=\u001b[0m \u001b[0;34m{\u001b[0m\u001b[0;34m}\u001b[0m\u001b[0;34m\u001b[0m\u001b[0;34m\u001b[0m\u001b[0m\n\u001b[1;32m     14\u001b[0m \u001b[0;34m\u001b[0m\u001b[0m\n",
            "\u001b[0;32m/content/handwriting-synthesis/demo.py\u001b[0m in \u001b[0;36m__init__\u001b[0;34m(self)\u001b[0m\n\u001b[1;32m     36\u001b[0m             \u001b[0mlstm_size\u001b[0m\u001b[0;34m=\u001b[0m\u001b[0;36m400\u001b[0m\u001b[0;34m,\u001b[0m\u001b[0;34m\u001b[0m\u001b[0;34m\u001b[0m\u001b[0m\n\u001b[1;32m     37\u001b[0m             \u001b[0moutput_mixture_components\u001b[0m\u001b[0;34m=\u001b[0m\u001b[0;36m20\u001b[0m\u001b[0;34m,\u001b[0m\u001b[0;34m\u001b[0m\u001b[0;34m\u001b[0m\u001b[0m\n\u001b[0;32m---> 38\u001b[0;31m             \u001b[0mattention_mixture_components\u001b[0m\u001b[0;34m=\u001b[0m\u001b[0;36m10\u001b[0m\u001b[0;34m\u001b[0m\u001b[0;34m\u001b[0m\u001b[0m\n\u001b[0m\u001b[1;32m     39\u001b[0m         )\n\u001b[1;32m     40\u001b[0m         \u001b[0mself\u001b[0m\u001b[0;34m.\u001b[0m\u001b[0mnn\u001b[0m\u001b[0;34m.\u001b[0m\u001b[0mrestore\u001b[0m\u001b[0;34m(\u001b[0m\u001b[0;34m)\u001b[0m\u001b[0;34m\u001b[0m\u001b[0;34m\u001b[0m\u001b[0m\n",
            "\u001b[0;32m/content/handwriting-synthesis/rnn.py\u001b[0m in \u001b[0;36m__init__\u001b[0;34m(self, lstm_size, output_mixture_components, attention_mixture_components, **kwargs)\u001b[0m\n\u001b[1;32m     84\u001b[0m         \u001b[0mself\u001b[0m\u001b[0;34m.\u001b[0m\u001b[0moutput_units\u001b[0m \u001b[0;34m=\u001b[0m \u001b[0mself\u001b[0m\u001b[0;34m.\u001b[0m\u001b[0moutput_mixture_components\u001b[0m\u001b[0;34m*\u001b[0m\u001b[0;36m6\u001b[0m \u001b[0;34m+\u001b[0m \u001b[0;36m1\u001b[0m\u001b[0;34m\u001b[0m\u001b[0;34m\u001b[0m\u001b[0m\n\u001b[1;32m     85\u001b[0m         \u001b[0mself\u001b[0m\u001b[0;34m.\u001b[0m\u001b[0mattention_mixture_components\u001b[0m \u001b[0;34m=\u001b[0m \u001b[0mattention_mixture_components\u001b[0m\u001b[0;34m\u001b[0m\u001b[0;34m\u001b[0m\u001b[0m\n\u001b[0;32m---> 86\u001b[0;31m         \u001b[0msuper\u001b[0m\u001b[0;34m(\u001b[0m\u001b[0mrnn\u001b[0m\u001b[0;34m,\u001b[0m \u001b[0mself\u001b[0m\u001b[0;34m)\u001b[0m\u001b[0;34m.\u001b[0m\u001b[0m__init__\u001b[0m\u001b[0;34m(\u001b[0m\u001b[0;34m**\u001b[0m\u001b[0mkwargs\u001b[0m\u001b[0;34m)\u001b[0m\u001b[0;34m\u001b[0m\u001b[0;34m\u001b[0m\u001b[0m\n\u001b[0m\u001b[1;32m     87\u001b[0m \u001b[0;34m\u001b[0m\u001b[0m\n\u001b[1;32m     88\u001b[0m     \u001b[0;32mdef\u001b[0m \u001b[0mparse_parameters\u001b[0m\u001b[0;34m(\u001b[0m\u001b[0mself\u001b[0m\u001b[0;34m,\u001b[0m \u001b[0mz\u001b[0m\u001b[0;34m,\u001b[0m \u001b[0meps\u001b[0m\u001b[0;34m=\u001b[0m\u001b[0;36m1e-8\u001b[0m\u001b[0;34m,\u001b[0m \u001b[0msigma_eps\u001b[0m\u001b[0;34m=\u001b[0m\u001b[0;36m1e-4\u001b[0m\u001b[0;34m)\u001b[0m\u001b[0;34m:\u001b[0m\u001b[0;34m\u001b[0m\u001b[0;34m\u001b[0m\u001b[0m\n",
            "\u001b[0;31mTypeError\u001b[0m: super(type, obj): obj must be an instance or subtype of type"
          ]
        }
      ]
    },
    {
      "cell_type": "markdown",
      "metadata": {
        "id": "FVahqBpzgzAB"
      },
      "source": [
        "Ausführen"
      ]
    },
    {
      "cell_type": "code",
      "metadata": {
        "id": "kvAQEZ2BbI8X"
      },
      "source": [
        "lines = [\"   Wladimir Angela Putin\"]\n",
        "biases = [.75 for i in lines]\n",
        "styles = [9 for i in lines]\n",
        "stroke_widths = [1 for i in lines]\n",
        "hand = Hand()\n",
        "\n",
        "for i in range(105, 110):\n",
        "  hand = Hand()\n",
        "  hand.write(\n",
        "      filename='/content/handwriting-synthesis/img/img{}.svg'.format(i),\n",
        "      lines=lines,\n",
        "      styles = [4],\n",
        "      biases = [2.5],\n",
        "  )"
      ],
      "execution_count": null,
      "outputs": []
    },
    {
      "cell_type": "code",
      "metadata": {
        "id": "xLMxJhSrUBwA"
      },
      "source": [
        "from IPython.display import display, Image\n",
        "display(Image(filename='/content/handwriting-synthesis/img/nice_png/png.png')\n",
        "  "
      ],
      "execution_count": null,
      "outputs": []
    },
    {
      "cell_type": "code",
      "metadata": {
        "id": "HC_FISHiT2kO"
      },
      "source": [
        "!pip install cairosvg\n",
        "import cairosvg\n",
        "cairosvg.svg2png(url=\"/content/handwriting-synthesis/img/img.svg\", write_to=\"/content/handwriting-synthesis/img/nice_png/png.png\")"
      ],
      "execution_count": null,
      "outputs": []
    }
  ]
}