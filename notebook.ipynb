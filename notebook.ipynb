{
  "nbformat": 4,
  "nbformat_minor": 0,
  "metadata": {
    "colab": {
      "name": "notebook.ipynb",
      "provenance": [],
      "collapsed_sections": []
    },
    "kernelspec": {
      "name": "python3",
      "display_name": "Python 3"
    },
    "language_info": {
      "name": "python"
    },
    "accelerator": "GPU",
    "widgets": {
      "application/vnd.jupyter.widget-state+json": {
        "0689a7b269d54fda90fb1ef2bece51b0": {
          "model_module": "@jupyter-widgets/controls",
          "model_name": "ButtonModel",
          "model_module_version": "1.5.0",
          "state": {
            "_view_name": "ButtonView",
            "style": "IPY_MODEL_2c3443628e664d21b0808f5b68575c20",
            "_dom_classes": [],
            "description": "Download",
            "_model_name": "ButtonModel",
            "button_style": "",
            "_view_module": "@jupyter-widgets/controls",
            "_model_module_version": "1.5.0",
            "tooltip": "",
            "_view_count": null,
            "disabled": false,
            "_view_module_version": "1.5.0",
            "layout": "IPY_MODEL_844fd39d62834919a2fb27d30fbae95b",
            "_model_module": "@jupyter-widgets/controls",
            "icon": ""
          }
        },
        "2c3443628e664d21b0808f5b68575c20": {
          "model_module": "@jupyter-widgets/controls",
          "model_name": "ButtonStyleModel",
          "model_module_version": "1.5.0",
          "state": {
            "_view_name": "StyleView",
            "_model_name": "ButtonStyleModel",
            "_view_module": "@jupyter-widgets/base",
            "_model_module_version": "1.5.0",
            "_view_count": null,
            "button_color": null,
            "font_weight": "",
            "_view_module_version": "1.2.0",
            "_model_module": "@jupyter-widgets/controls"
          }
        },
        "844fd39d62834919a2fb27d30fbae95b": {
          "model_module": "@jupyter-widgets/base",
          "model_name": "LayoutModel",
          "model_module_version": "1.2.0",
          "state": {
            "_view_name": "LayoutView",
            "grid_template_rows": null,
            "right": null,
            "justify_content": null,
            "_view_module": "@jupyter-widgets/base",
            "overflow": null,
            "_model_module_version": "1.2.0",
            "_view_count": null,
            "flex_flow": null,
            "width": "50%",
            "min_width": null,
            "border": "solid",
            "align_items": null,
            "bottom": null,
            "_model_module": "@jupyter-widgets/base",
            "top": null,
            "grid_column": null,
            "overflow_y": null,
            "overflow_x": null,
            "grid_auto_flow": null,
            "grid_area": null,
            "grid_template_columns": null,
            "flex": null,
            "_model_name": "LayoutModel",
            "justify_items": null,
            "grid_row": null,
            "max_height": null,
            "align_content": null,
            "visibility": null,
            "align_self": null,
            "height": "30px",
            "min_height": null,
            "padding": null,
            "grid_auto_rows": null,
            "grid_gap": null,
            "max_width": null,
            "order": null,
            "_view_module_version": "1.2.0",
            "grid_template_areas": null,
            "object_position": null,
            "object_fit": null,
            "grid_auto_columns": null,
            "margin": "0 0 50px 0",
            "display": "inline-box",
            "left": null
          }
        },
        "dd56fe5ac8624177b1eb62701a49b66d": {
          "model_module": "@jupyter-widgets/output",
          "model_name": "OutputModel",
          "model_module_version": "1.0.0",
          "state": {
            "_view_name": "OutputView",
            "msg_id": "",
            "_dom_classes": [],
            "_model_name": "OutputModel",
            "outputs": [],
            "_view_module": "@jupyter-widgets/output",
            "_model_module_version": "1.0.0",
            "_view_count": null,
            "_view_module_version": "1.0.0",
            "layout": "IPY_MODEL_c6656e659f3c4c76afe8befee3292436",
            "_model_module": "@jupyter-widgets/output"
          }
        },
        "c6656e659f3c4c76afe8befee3292436": {
          "model_module": "@jupyter-widgets/base",
          "model_name": "LayoutModel",
          "model_module_version": "1.2.0",
          "state": {
            "_view_name": "LayoutView",
            "grid_template_rows": null,
            "right": null,
            "justify_content": null,
            "_view_module": "@jupyter-widgets/base",
            "overflow": null,
            "_model_module_version": "1.2.0",
            "_view_count": null,
            "flex_flow": null,
            "width": null,
            "min_width": null,
            "border": null,
            "align_items": null,
            "bottom": null,
            "_model_module": "@jupyter-widgets/base",
            "top": null,
            "grid_column": null,
            "overflow_y": null,
            "overflow_x": null,
            "grid_auto_flow": null,
            "grid_area": null,
            "grid_template_columns": null,
            "flex": null,
            "_model_name": "LayoutModel",
            "justify_items": null,
            "grid_row": null,
            "max_height": null,
            "align_content": null,
            "visibility": null,
            "align_self": null,
            "height": null,
            "min_height": null,
            "padding": null,
            "grid_auto_rows": null,
            "grid_gap": null,
            "max_width": null,
            "order": null,
            "_view_module_version": "1.2.0",
            "grid_template_areas": null,
            "object_position": null,
            "object_fit": null,
            "grid_auto_columns": null,
            "margin": null,
            "display": null,
            "left": null
          }
        },
        "1735d5dec9524b2ab6475aef43088585": {
          "model_module": "@jupyter-widgets/controls",
          "model_name": "ButtonModel",
          "model_module_version": "1.5.0",
          "state": {
            "_view_name": "ButtonView",
            "style": "IPY_MODEL_40dbd1aeed2f4089b36c270cfc7f596a",
            "_dom_classes": [],
            "description": "Download",
            "_model_name": "ButtonModel",
            "button_style": "",
            "_view_module": "@jupyter-widgets/controls",
            "_model_module_version": "1.5.0",
            "tooltip": "",
            "_view_count": null,
            "disabled": false,
            "_view_module_version": "1.5.0",
            "layout": "IPY_MODEL_1b1213b03a084490b88cc97617e75e6f",
            "_model_module": "@jupyter-widgets/controls",
            "icon": ""
          }
        },
        "40dbd1aeed2f4089b36c270cfc7f596a": {
          "model_module": "@jupyter-widgets/controls",
          "model_name": "ButtonStyleModel",
          "model_module_version": "1.5.0",
          "state": {
            "_view_name": "StyleView",
            "_model_name": "ButtonStyleModel",
            "_view_module": "@jupyter-widgets/base",
            "_model_module_version": "1.5.0",
            "_view_count": null,
            "button_color": null,
            "font_weight": "",
            "_view_module_version": "1.2.0",
            "_model_module": "@jupyter-widgets/controls"
          }
        },
        "1b1213b03a084490b88cc97617e75e6f": {
          "model_module": "@jupyter-widgets/base",
          "model_name": "LayoutModel",
          "model_module_version": "1.2.0",
          "state": {
            "_view_name": "LayoutView",
            "grid_template_rows": null,
            "right": null,
            "justify_content": null,
            "_view_module": "@jupyter-widgets/base",
            "overflow": null,
            "_model_module_version": "1.2.0",
            "_view_count": null,
            "flex_flow": null,
            "width": "50%",
            "min_width": null,
            "border": "solid",
            "align_items": null,
            "bottom": null,
            "_model_module": "@jupyter-widgets/base",
            "top": null,
            "grid_column": null,
            "overflow_y": null,
            "overflow_x": null,
            "grid_auto_flow": null,
            "grid_area": null,
            "grid_template_columns": null,
            "flex": null,
            "_model_name": "LayoutModel",
            "justify_items": null,
            "grid_row": null,
            "max_height": null,
            "align_content": null,
            "visibility": null,
            "align_self": null,
            "height": "30px",
            "min_height": null,
            "padding": null,
            "grid_auto_rows": null,
            "grid_gap": null,
            "max_width": null,
            "order": null,
            "_view_module_version": "1.2.0",
            "grid_template_areas": null,
            "object_position": null,
            "object_fit": null,
            "grid_auto_columns": null,
            "margin": "0 0 50px 0",
            "display": "inline-box",
            "left": null
          }
        },
        "caf0740cc03f451485712d46ce511750": {
          "model_module": "@jupyter-widgets/output",
          "model_name": "OutputModel",
          "model_module_version": "1.0.0",
          "state": {
            "_view_name": "OutputView",
            "msg_id": "",
            "_dom_classes": [],
            "_model_name": "OutputModel",
            "outputs": [],
            "_view_module": "@jupyter-widgets/output",
            "_model_module_version": "1.0.0",
            "_view_count": null,
            "_view_module_version": "1.0.0",
            "layout": "IPY_MODEL_882a7c03569e47c8941081c3a65af7a6",
            "_model_module": "@jupyter-widgets/output"
          }
        },
        "882a7c03569e47c8941081c3a65af7a6": {
          "model_module": "@jupyter-widgets/base",
          "model_name": "LayoutModel",
          "model_module_version": "1.2.0",
          "state": {
            "_view_name": "LayoutView",
            "grid_template_rows": null,
            "right": null,
            "justify_content": null,
            "_view_module": "@jupyter-widgets/base",
            "overflow": null,
            "_model_module_version": "1.2.0",
            "_view_count": null,
            "flex_flow": null,
            "width": null,
            "min_width": null,
            "border": null,
            "align_items": null,
            "bottom": null,
            "_model_module": "@jupyter-widgets/base",
            "top": null,
            "grid_column": null,
            "overflow_y": null,
            "overflow_x": null,
            "grid_auto_flow": null,
            "grid_area": null,
            "grid_template_columns": null,
            "flex": null,
            "_model_name": "LayoutModel",
            "justify_items": null,
            "grid_row": null,
            "max_height": null,
            "align_content": null,
            "visibility": null,
            "align_self": null,
            "height": null,
            "min_height": null,
            "padding": null,
            "grid_auto_rows": null,
            "grid_gap": null,
            "max_width": null,
            "order": null,
            "_view_module_version": "1.2.0",
            "grid_template_areas": null,
            "object_position": null,
            "object_fit": null,
            "grid_auto_columns": null,
            "margin": null,
            "display": null,
            "left": null
          }
        },
        "c4aa68b5c85d4373ad09b4ad77454f2d": {
          "model_module": "@jupyter-widgets/controls",
          "model_name": "ButtonModel",
          "model_module_version": "1.5.0",
          "state": {
            "_view_name": "ButtonView",
            "style": "IPY_MODEL_dc8a05262b804ac289b69c7eee028e0a",
            "_dom_classes": [],
            "description": "Download",
            "_model_name": "ButtonModel",
            "button_style": "",
            "_view_module": "@jupyter-widgets/controls",
            "_model_module_version": "1.5.0",
            "tooltip": "",
            "_view_count": null,
            "disabled": false,
            "_view_module_version": "1.5.0",
            "layout": "IPY_MODEL_24db0d5054ed44f29b5ff02f270f24ff",
            "_model_module": "@jupyter-widgets/controls",
            "icon": ""
          }
        },
        "dc8a05262b804ac289b69c7eee028e0a": {
          "model_module": "@jupyter-widgets/controls",
          "model_name": "ButtonStyleModel",
          "model_module_version": "1.5.0",
          "state": {
            "_view_name": "StyleView",
            "_model_name": "ButtonStyleModel",
            "_view_module": "@jupyter-widgets/base",
            "_model_module_version": "1.5.0",
            "_view_count": null,
            "button_color": null,
            "font_weight": "",
            "_view_module_version": "1.2.0",
            "_model_module": "@jupyter-widgets/controls"
          }
        },
        "24db0d5054ed44f29b5ff02f270f24ff": {
          "model_module": "@jupyter-widgets/base",
          "model_name": "LayoutModel",
          "model_module_version": "1.2.0",
          "state": {
            "_view_name": "LayoutView",
            "grid_template_rows": null,
            "right": null,
            "justify_content": null,
            "_view_module": "@jupyter-widgets/base",
            "overflow": null,
            "_model_module_version": "1.2.0",
            "_view_count": null,
            "flex_flow": null,
            "width": "50%",
            "min_width": null,
            "border": "solid",
            "align_items": null,
            "bottom": null,
            "_model_module": "@jupyter-widgets/base",
            "top": null,
            "grid_column": null,
            "overflow_y": null,
            "overflow_x": null,
            "grid_auto_flow": null,
            "grid_area": null,
            "grid_template_columns": null,
            "flex": null,
            "_model_name": "LayoutModel",
            "justify_items": null,
            "grid_row": null,
            "max_height": null,
            "align_content": null,
            "visibility": null,
            "align_self": null,
            "height": "30px",
            "min_height": null,
            "padding": null,
            "grid_auto_rows": null,
            "grid_gap": null,
            "max_width": null,
            "order": null,
            "_view_module_version": "1.2.0",
            "grid_template_areas": null,
            "object_position": null,
            "object_fit": null,
            "grid_auto_columns": null,
            "margin": "0 0 50px 0",
            "display": "inline-box",
            "left": null
          }
        },
        "38f204e9124c4f7da82ae6b7a0052c86": {
          "model_module": "@jupyter-widgets/output",
          "model_name": "OutputModel",
          "model_module_version": "1.0.0",
          "state": {
            "_view_name": "OutputView",
            "msg_id": "",
            "_dom_classes": [],
            "_model_name": "OutputModel",
            "outputs": [],
            "_view_module": "@jupyter-widgets/output",
            "_model_module_version": "1.0.0",
            "_view_count": null,
            "_view_module_version": "1.0.0",
            "layout": "IPY_MODEL_27d66ccdbf40436caadb54c278d493dd",
            "_model_module": "@jupyter-widgets/output"
          }
        },
        "27d66ccdbf40436caadb54c278d493dd": {
          "model_module": "@jupyter-widgets/base",
          "model_name": "LayoutModel",
          "model_module_version": "1.2.0",
          "state": {
            "_view_name": "LayoutView",
            "grid_template_rows": null,
            "right": null,
            "justify_content": null,
            "_view_module": "@jupyter-widgets/base",
            "overflow": null,
            "_model_module_version": "1.2.0",
            "_view_count": null,
            "flex_flow": null,
            "width": null,
            "min_width": null,
            "border": null,
            "align_items": null,
            "bottom": null,
            "_model_module": "@jupyter-widgets/base",
            "top": null,
            "grid_column": null,
            "overflow_y": null,
            "overflow_x": null,
            "grid_auto_flow": null,
            "grid_area": null,
            "grid_template_columns": null,
            "flex": null,
            "_model_name": "LayoutModel",
            "justify_items": null,
            "grid_row": null,
            "max_height": null,
            "align_content": null,
            "visibility": null,
            "align_self": null,
            "height": null,
            "min_height": null,
            "padding": null,
            "grid_auto_rows": null,
            "grid_gap": null,
            "max_width": null,
            "order": null,
            "_view_module_version": "1.2.0",
            "grid_template_areas": null,
            "object_position": null,
            "object_fit": null,
            "grid_auto_columns": null,
            "margin": null,
            "display": null,
            "left": null
          }
        },
        "f64a183b4896482182be68399d58f177": {
          "model_module": "@jupyter-widgets/controls",
          "model_name": "ButtonModel",
          "model_module_version": "1.5.0",
          "state": {
            "_view_name": "ButtonView",
            "style": "IPY_MODEL_95684ddc3e82431c8428215ebf40fafc",
            "_dom_classes": [],
            "description": "Download",
            "_model_name": "ButtonModel",
            "button_style": "",
            "_view_module": "@jupyter-widgets/controls",
            "_model_module_version": "1.5.0",
            "tooltip": "",
            "_view_count": null,
            "disabled": false,
            "_view_module_version": "1.5.0",
            "layout": "IPY_MODEL_355c9116031d44fe941ff8858ede8035",
            "_model_module": "@jupyter-widgets/controls",
            "icon": ""
          }
        },
        "95684ddc3e82431c8428215ebf40fafc": {
          "model_module": "@jupyter-widgets/controls",
          "model_name": "ButtonStyleModel",
          "model_module_version": "1.5.0",
          "state": {
            "_view_name": "StyleView",
            "_model_name": "ButtonStyleModel",
            "_view_module": "@jupyter-widgets/base",
            "_model_module_version": "1.5.0",
            "_view_count": null,
            "button_color": null,
            "font_weight": "",
            "_view_module_version": "1.2.0",
            "_model_module": "@jupyter-widgets/controls"
          }
        },
        "355c9116031d44fe941ff8858ede8035": {
          "model_module": "@jupyter-widgets/base",
          "model_name": "LayoutModel",
          "model_module_version": "1.2.0",
          "state": {
            "_view_name": "LayoutView",
            "grid_template_rows": null,
            "right": null,
            "justify_content": null,
            "_view_module": "@jupyter-widgets/base",
            "overflow": null,
            "_model_module_version": "1.2.0",
            "_view_count": null,
            "flex_flow": null,
            "width": "50%",
            "min_width": null,
            "border": "solid",
            "align_items": null,
            "bottom": null,
            "_model_module": "@jupyter-widgets/base",
            "top": null,
            "grid_column": null,
            "overflow_y": null,
            "overflow_x": null,
            "grid_auto_flow": null,
            "grid_area": null,
            "grid_template_columns": null,
            "flex": null,
            "_model_name": "LayoutModel",
            "justify_items": null,
            "grid_row": null,
            "max_height": null,
            "align_content": null,
            "visibility": null,
            "align_self": null,
            "height": "30px",
            "min_height": null,
            "padding": null,
            "grid_auto_rows": null,
            "grid_gap": null,
            "max_width": null,
            "order": null,
            "_view_module_version": "1.2.0",
            "grid_template_areas": null,
            "object_position": null,
            "object_fit": null,
            "grid_auto_columns": null,
            "margin": "0 0 50px 0",
            "display": "inline-box",
            "left": null
          }
        },
        "15ee775aef7b4979853996ba70952ece": {
          "model_module": "@jupyter-widgets/output",
          "model_name": "OutputModel",
          "model_module_version": "1.0.0",
          "state": {
            "_view_name": "OutputView",
            "msg_id": "",
            "_dom_classes": [],
            "_model_name": "OutputModel",
            "outputs": [],
            "_view_module": "@jupyter-widgets/output",
            "_model_module_version": "1.0.0",
            "_view_count": null,
            "_view_module_version": "1.0.0",
            "layout": "IPY_MODEL_7cf0be48537f4f119ade15374dbc24f3",
            "_model_module": "@jupyter-widgets/output"
          }
        },
        "7cf0be48537f4f119ade15374dbc24f3": {
          "model_module": "@jupyter-widgets/base",
          "model_name": "LayoutModel",
          "model_module_version": "1.2.0",
          "state": {
            "_view_name": "LayoutView",
            "grid_template_rows": null,
            "right": null,
            "justify_content": null,
            "_view_module": "@jupyter-widgets/base",
            "overflow": null,
            "_model_module_version": "1.2.0",
            "_view_count": null,
            "flex_flow": null,
            "width": null,
            "min_width": null,
            "border": null,
            "align_items": null,
            "bottom": null,
            "_model_module": "@jupyter-widgets/base",
            "top": null,
            "grid_column": null,
            "overflow_y": null,
            "overflow_x": null,
            "grid_auto_flow": null,
            "grid_area": null,
            "grid_template_columns": null,
            "flex": null,
            "_model_name": "LayoutModel",
            "justify_items": null,
            "grid_row": null,
            "max_height": null,
            "align_content": null,
            "visibility": null,
            "align_self": null,
            "height": null,
            "min_height": null,
            "padding": null,
            "grid_auto_rows": null,
            "grid_gap": null,
            "max_width": null,
            "order": null,
            "_view_module_version": "1.2.0",
            "grid_template_areas": null,
            "object_position": null,
            "object_fit": null,
            "grid_auto_columns": null,
            "margin": null,
            "display": null,
            "left": null
          }
        },
        "ce5c45b51d044480b4ab7e21fb5af503": {
          "model_module": "@jupyter-widgets/controls",
          "model_name": "ButtonModel",
          "model_module_version": "1.5.0",
          "state": {
            "_view_name": "ButtonView",
            "style": "IPY_MODEL_03d99c6d5c49444fa70e7664cd5d8e0f",
            "_dom_classes": [],
            "description": "Download",
            "_model_name": "ButtonModel",
            "button_style": "",
            "_view_module": "@jupyter-widgets/controls",
            "_model_module_version": "1.5.0",
            "tooltip": "",
            "_view_count": null,
            "disabled": false,
            "_view_module_version": "1.5.0",
            "layout": "IPY_MODEL_899a94c5bad24aab9c1f857dfc8ce82a",
            "_model_module": "@jupyter-widgets/controls",
            "icon": ""
          }
        },
        "03d99c6d5c49444fa70e7664cd5d8e0f": {
          "model_module": "@jupyter-widgets/controls",
          "model_name": "ButtonStyleModel",
          "model_module_version": "1.5.0",
          "state": {
            "_view_name": "StyleView",
            "_model_name": "ButtonStyleModel",
            "_view_module": "@jupyter-widgets/base",
            "_model_module_version": "1.5.0",
            "_view_count": null,
            "button_color": null,
            "font_weight": "",
            "_view_module_version": "1.2.0",
            "_model_module": "@jupyter-widgets/controls"
          }
        },
        "899a94c5bad24aab9c1f857dfc8ce82a": {
          "model_module": "@jupyter-widgets/base",
          "model_name": "LayoutModel",
          "model_module_version": "1.2.0",
          "state": {
            "_view_name": "LayoutView",
            "grid_template_rows": null,
            "right": null,
            "justify_content": null,
            "_view_module": "@jupyter-widgets/base",
            "overflow": null,
            "_model_module_version": "1.2.0",
            "_view_count": null,
            "flex_flow": null,
            "width": "50%",
            "min_width": null,
            "border": "solid",
            "align_items": null,
            "bottom": null,
            "_model_module": "@jupyter-widgets/base",
            "top": null,
            "grid_column": null,
            "overflow_y": null,
            "overflow_x": null,
            "grid_auto_flow": null,
            "grid_area": null,
            "grid_template_columns": null,
            "flex": null,
            "_model_name": "LayoutModel",
            "justify_items": null,
            "grid_row": null,
            "max_height": null,
            "align_content": null,
            "visibility": null,
            "align_self": null,
            "height": "30px",
            "min_height": null,
            "padding": null,
            "grid_auto_rows": null,
            "grid_gap": null,
            "max_width": null,
            "order": null,
            "_view_module_version": "1.2.0",
            "grid_template_areas": null,
            "object_position": null,
            "object_fit": null,
            "grid_auto_columns": null,
            "margin": "0 0 50px 0",
            "display": "inline-box",
            "left": null
          }
        },
        "4b66dc021da14844a037ab0c50ed64e5": {
          "model_module": "@jupyter-widgets/output",
          "model_name": "OutputModel",
          "model_module_version": "1.0.0",
          "state": {
            "_view_name": "OutputView",
            "msg_id": "",
            "_dom_classes": [],
            "_model_name": "OutputModel",
            "outputs": [],
            "_view_module": "@jupyter-widgets/output",
            "_model_module_version": "1.0.0",
            "_view_count": null,
            "_view_module_version": "1.0.0",
            "layout": "IPY_MODEL_e2ccb25bba4c476e98648b9563eb4630",
            "_model_module": "@jupyter-widgets/output"
          }
        },
        "e2ccb25bba4c476e98648b9563eb4630": {
          "model_module": "@jupyter-widgets/base",
          "model_name": "LayoutModel",
          "model_module_version": "1.2.0",
          "state": {
            "_view_name": "LayoutView",
            "grid_template_rows": null,
            "right": null,
            "justify_content": null,
            "_view_module": "@jupyter-widgets/base",
            "overflow": null,
            "_model_module_version": "1.2.0",
            "_view_count": null,
            "flex_flow": null,
            "width": null,
            "min_width": null,
            "border": null,
            "align_items": null,
            "bottom": null,
            "_model_module": "@jupyter-widgets/base",
            "top": null,
            "grid_column": null,
            "overflow_y": null,
            "overflow_x": null,
            "grid_auto_flow": null,
            "grid_area": null,
            "grid_template_columns": null,
            "flex": null,
            "_model_name": "LayoutModel",
            "justify_items": null,
            "grid_row": null,
            "max_height": null,
            "align_content": null,
            "visibility": null,
            "align_self": null,
            "height": null,
            "min_height": null,
            "padding": null,
            "grid_auto_rows": null,
            "grid_gap": null,
            "max_width": null,
            "order": null,
            "_view_module_version": "1.2.0",
            "grid_template_areas": null,
            "object_position": null,
            "object_fit": null,
            "grid_auto_columns": null,
            "margin": null,
            "display": null,
            "left": null
          }
        },
        "76264d924faa4461898d70197eba0102": {
          "model_module": "@jupyter-widgets/controls",
          "model_name": "ButtonModel",
          "model_module_version": "1.5.0",
          "state": {
            "_view_name": "ButtonView",
            "style": "IPY_MODEL_31363f9c72274de0a28053c6bb549680",
            "_dom_classes": [],
            "description": "Download",
            "_model_name": "ButtonModel",
            "button_style": "",
            "_view_module": "@jupyter-widgets/controls",
            "_model_module_version": "1.5.0",
            "tooltip": "",
            "_view_count": null,
            "disabled": false,
            "_view_module_version": "1.5.0",
            "layout": "IPY_MODEL_348ba0ae3048498584814a88e0819402",
            "_model_module": "@jupyter-widgets/controls",
            "icon": ""
          }
        },
        "31363f9c72274de0a28053c6bb549680": {
          "model_module": "@jupyter-widgets/controls",
          "model_name": "ButtonStyleModel",
          "model_module_version": "1.5.0",
          "state": {
            "_view_name": "StyleView",
            "_model_name": "ButtonStyleModel",
            "_view_module": "@jupyter-widgets/base",
            "_model_module_version": "1.5.0",
            "_view_count": null,
            "button_color": null,
            "font_weight": "",
            "_view_module_version": "1.2.0",
            "_model_module": "@jupyter-widgets/controls"
          }
        },
        "348ba0ae3048498584814a88e0819402": {
          "model_module": "@jupyter-widgets/base",
          "model_name": "LayoutModel",
          "model_module_version": "1.2.0",
          "state": {
            "_view_name": "LayoutView",
            "grid_template_rows": null,
            "right": null,
            "justify_content": null,
            "_view_module": "@jupyter-widgets/base",
            "overflow": null,
            "_model_module_version": "1.2.0",
            "_view_count": null,
            "flex_flow": null,
            "width": "50%",
            "min_width": null,
            "border": "solid",
            "align_items": null,
            "bottom": null,
            "_model_module": "@jupyter-widgets/base",
            "top": null,
            "grid_column": null,
            "overflow_y": null,
            "overflow_x": null,
            "grid_auto_flow": null,
            "grid_area": null,
            "grid_template_columns": null,
            "flex": null,
            "_model_name": "LayoutModel",
            "justify_items": null,
            "grid_row": null,
            "max_height": null,
            "align_content": null,
            "visibility": null,
            "align_self": null,
            "height": "30px",
            "min_height": null,
            "padding": null,
            "grid_auto_rows": null,
            "grid_gap": null,
            "max_width": null,
            "order": null,
            "_view_module_version": "1.2.0",
            "grid_template_areas": null,
            "object_position": null,
            "object_fit": null,
            "grid_auto_columns": null,
            "margin": "0 0 50px 0",
            "display": "inline-box",
            "left": null
          }
        },
        "664505bf74c148dfb0484d83ab53b037": {
          "model_module": "@jupyter-widgets/output",
          "model_name": "OutputModel",
          "model_module_version": "1.0.0",
          "state": {
            "_view_name": "OutputView",
            "msg_id": "",
            "_dom_classes": [],
            "_model_name": "OutputModel",
            "outputs": [
              {
                "output_type": "display_data",
                "data": {
                  "application/javascript": [
                    "\n",
                    "    async function download(id, filename, size) {\n",
                    "      if (!google.colab.kernel.accessAllowed) {\n",
                    "        return;\n",
                    "      }\n",
                    "      const div = document.createElement('div');\n",
                    "      const label = document.createElement('label');\n",
                    "      label.textContent = `Downloading \"${filename}\": `;\n",
                    "      div.appendChild(label);\n",
                    "      const progress = document.createElement('progress');\n",
                    "      progress.max = size;\n",
                    "      div.appendChild(progress);\n",
                    "      document.body.appendChild(div);\n",
                    "\n",
                    "      const buffers = [];\n",
                    "      let downloaded = 0;\n",
                    "\n",
                    "      const channel = await google.colab.kernel.comms.open(id);\n",
                    "      // Send a message to notify the kernel that we're ready.\n",
                    "      channel.send({})\n",
                    "\n",
                    "      for await (const message of channel.messages) {\n",
                    "        // Send a message to notify the kernel that we're ready.\n",
                    "        channel.send({})\n",
                    "        if (message.buffers) {\n",
                    "          for (const buffer of message.buffers) {\n",
                    "            buffers.push(buffer);\n",
                    "            downloaded += buffer.byteLength;\n",
                    "            progress.value = downloaded;\n",
                    "          }\n",
                    "        }\n",
                    "      }\n",
                    "      const blob = new Blob(buffers, {type: 'application/binary'});\n",
                    "      const a = document.createElement('a');\n",
                    "      a.href = window.URL.createObjectURL(blob);\n",
                    "      a.download = filename;\n",
                    "      div.appendChild(a);\n",
                    "      a.click();\n",
                    "      div.remove();\n",
                    "    }\n",
                    "  "
                  ],
                  "text/plain": [
                    "<IPython.core.display.Javascript object>"
                  ]
                },
                "metadata": {}
              },
              {
                "output_type": "display_data",
                "data": {
                  "application/javascript": [
                    "download(\"download_b6d72cb9-3a33-4a55-aba3-a188208068c9\", \"png1.png\", 6011)"
                  ],
                  "text/plain": [
                    "<IPython.core.display.Javascript object>"
                  ]
                },
                "metadata": {}
              },
              {
                "output_type": "display_data",
                "data": {
                  "application/javascript": [
                    "\n",
                    "    async function download(id, filename, size) {\n",
                    "      if (!google.colab.kernel.accessAllowed) {\n",
                    "        return;\n",
                    "      }\n",
                    "      const div = document.createElement('div');\n",
                    "      const label = document.createElement('label');\n",
                    "      label.textContent = `Downloading \"${filename}\": `;\n",
                    "      div.appendChild(label);\n",
                    "      const progress = document.createElement('progress');\n",
                    "      progress.max = size;\n",
                    "      div.appendChild(progress);\n",
                    "      document.body.appendChild(div);\n",
                    "\n",
                    "      const buffers = [];\n",
                    "      let downloaded = 0;\n",
                    "\n",
                    "      const channel = await google.colab.kernel.comms.open(id);\n",
                    "      // Send a message to notify the kernel that we're ready.\n",
                    "      channel.send({})\n",
                    "\n",
                    "      for await (const message of channel.messages) {\n",
                    "        // Send a message to notify the kernel that we're ready.\n",
                    "        channel.send({})\n",
                    "        if (message.buffers) {\n",
                    "          for (const buffer of message.buffers) {\n",
                    "            buffers.push(buffer);\n",
                    "            downloaded += buffer.byteLength;\n",
                    "            progress.value = downloaded;\n",
                    "          }\n",
                    "        }\n",
                    "      }\n",
                    "      const blob = new Blob(buffers, {type: 'application/binary'});\n",
                    "      const a = document.createElement('a');\n",
                    "      a.href = window.URL.createObjectURL(blob);\n",
                    "      a.download = filename;\n",
                    "      div.appendChild(a);\n",
                    "      a.click();\n",
                    "      div.remove();\n",
                    "    }\n",
                    "  "
                  ],
                  "text/plain": [
                    "<IPython.core.display.Javascript object>"
                  ]
                },
                "metadata": {}
              },
              {
                "output_type": "display_data",
                "data": {
                  "application/javascript": [
                    "download(\"download_9548d1bf-26cc-49d2-b1da-43d9a9902197\", \"png1.png\", 6011)"
                  ],
                  "text/plain": [
                    "<IPython.core.display.Javascript object>"
                  ]
                },
                "metadata": {}
              },
              {
                "output_type": "display_data",
                "data": {
                  "application/javascript": [
                    "\n",
                    "    async function download(id, filename, size) {\n",
                    "      if (!google.colab.kernel.accessAllowed) {\n",
                    "        return;\n",
                    "      }\n",
                    "      const div = document.createElement('div');\n",
                    "      const label = document.createElement('label');\n",
                    "      label.textContent = `Downloading \"${filename}\": `;\n",
                    "      div.appendChild(label);\n",
                    "      const progress = document.createElement('progress');\n",
                    "      progress.max = size;\n",
                    "      div.appendChild(progress);\n",
                    "      document.body.appendChild(div);\n",
                    "\n",
                    "      const buffers = [];\n",
                    "      let downloaded = 0;\n",
                    "\n",
                    "      const channel = await google.colab.kernel.comms.open(id);\n",
                    "      // Send a message to notify the kernel that we're ready.\n",
                    "      channel.send({})\n",
                    "\n",
                    "      for await (const message of channel.messages) {\n",
                    "        // Send a message to notify the kernel that we're ready.\n",
                    "        channel.send({})\n",
                    "        if (message.buffers) {\n",
                    "          for (const buffer of message.buffers) {\n",
                    "            buffers.push(buffer);\n",
                    "            downloaded += buffer.byteLength;\n",
                    "            progress.value = downloaded;\n",
                    "          }\n",
                    "        }\n",
                    "      }\n",
                    "      const blob = new Blob(buffers, {type: 'application/binary'});\n",
                    "      const a = document.createElement('a');\n",
                    "      a.href = window.URL.createObjectURL(blob);\n",
                    "      a.download = filename;\n",
                    "      div.appendChild(a);\n",
                    "      a.click();\n",
                    "      div.remove();\n",
                    "    }\n",
                    "  "
                  ],
                  "text/plain": [
                    "<IPython.core.display.Javascript object>"
                  ]
                },
                "metadata": {}
              },
              {
                "output_type": "display_data",
                "data": {
                  "application/javascript": [
                    "download(\"download_0afbdec0-427e-4a7b-994c-b9f5b980947e\", \"png1.png\", 6011)"
                  ],
                  "text/plain": [
                    "<IPython.core.display.Javascript object>"
                  ]
                },
                "metadata": {}
              },
              {
                "output_type": "display_data",
                "data": {
                  "application/javascript": [
                    "\n",
                    "    async function download(id, filename, size) {\n",
                    "      if (!google.colab.kernel.accessAllowed) {\n",
                    "        return;\n",
                    "      }\n",
                    "      const div = document.createElement('div');\n",
                    "      const label = document.createElement('label');\n",
                    "      label.textContent = `Downloading \"${filename}\": `;\n",
                    "      div.appendChild(label);\n",
                    "      const progress = document.createElement('progress');\n",
                    "      progress.max = size;\n",
                    "      div.appendChild(progress);\n",
                    "      document.body.appendChild(div);\n",
                    "\n",
                    "      const buffers = [];\n",
                    "      let downloaded = 0;\n",
                    "\n",
                    "      const channel = await google.colab.kernel.comms.open(id);\n",
                    "      // Send a message to notify the kernel that we're ready.\n",
                    "      channel.send({})\n",
                    "\n",
                    "      for await (const message of channel.messages) {\n",
                    "        // Send a message to notify the kernel that we're ready.\n",
                    "        channel.send({})\n",
                    "        if (message.buffers) {\n",
                    "          for (const buffer of message.buffers) {\n",
                    "            buffers.push(buffer);\n",
                    "            downloaded += buffer.byteLength;\n",
                    "            progress.value = downloaded;\n",
                    "          }\n",
                    "        }\n",
                    "      }\n",
                    "      const blob = new Blob(buffers, {type: 'application/binary'});\n",
                    "      const a = document.createElement('a');\n",
                    "      a.href = window.URL.createObjectURL(blob);\n",
                    "      a.download = filename;\n",
                    "      div.appendChild(a);\n",
                    "      a.click();\n",
                    "      div.remove();\n",
                    "    }\n",
                    "  "
                  ],
                  "text/plain": [
                    "<IPython.core.display.Javascript object>"
                  ]
                },
                "metadata": {}
              },
              {
                "output_type": "display_data",
                "data": {
                  "application/javascript": [
                    "download(\"download_15bb80f3-25ad-4fd2-befe-7fe5a5ec3240\", \"png9.png\", 5731)"
                  ],
                  "text/plain": [
                    "<IPython.core.display.Javascript object>"
                  ]
                },
                "metadata": {}
              },
              {
                "output_type": "display_data",
                "data": {
                  "application/javascript": [
                    "\n",
                    "    async function download(id, filename, size) {\n",
                    "      if (!google.colab.kernel.accessAllowed) {\n",
                    "        return;\n",
                    "      }\n",
                    "      const div = document.createElement('div');\n",
                    "      const label = document.createElement('label');\n",
                    "      label.textContent = `Downloading \"${filename}\": `;\n",
                    "      div.appendChild(label);\n",
                    "      const progress = document.createElement('progress');\n",
                    "      progress.max = size;\n",
                    "      div.appendChild(progress);\n",
                    "      document.body.appendChild(div);\n",
                    "\n",
                    "      const buffers = [];\n",
                    "      let downloaded = 0;\n",
                    "\n",
                    "      const channel = await google.colab.kernel.comms.open(id);\n",
                    "      // Send a message to notify the kernel that we're ready.\n",
                    "      channel.send({})\n",
                    "\n",
                    "      for await (const message of channel.messages) {\n",
                    "        // Send a message to notify the kernel that we're ready.\n",
                    "        channel.send({})\n",
                    "        if (message.buffers) {\n",
                    "          for (const buffer of message.buffers) {\n",
                    "            buffers.push(buffer);\n",
                    "            downloaded += buffer.byteLength;\n",
                    "            progress.value = downloaded;\n",
                    "          }\n",
                    "        }\n",
                    "      }\n",
                    "      const blob = new Blob(buffers, {type: 'application/binary'});\n",
                    "      const a = document.createElement('a');\n",
                    "      a.href = window.URL.createObjectURL(blob);\n",
                    "      a.download = filename;\n",
                    "      div.appendChild(a);\n",
                    "      a.click();\n",
                    "      div.remove();\n",
                    "    }\n",
                    "  "
                  ],
                  "text/plain": [
                    "<IPython.core.display.Javascript object>"
                  ]
                },
                "metadata": {}
              },
              {
                "output_type": "display_data",
                "data": {
                  "application/javascript": [
                    "download(\"download_340a96f4-06dd-40e3-ae2f-da7b7b07239a\", \"png1.png\", 6011)"
                  ],
                  "text/plain": [
                    "<IPython.core.display.Javascript object>"
                  ]
                },
                "metadata": {}
              },
              {
                "output_type": "display_data",
                "data": {
                  "application/javascript": [
                    "\n",
                    "    async function download(id, filename, size) {\n",
                    "      if (!google.colab.kernel.accessAllowed) {\n",
                    "        return;\n",
                    "      }\n",
                    "      const div = document.createElement('div');\n",
                    "      const label = document.createElement('label');\n",
                    "      label.textContent = `Downloading \"${filename}\": `;\n",
                    "      div.appendChild(label);\n",
                    "      const progress = document.createElement('progress');\n",
                    "      progress.max = size;\n",
                    "      div.appendChild(progress);\n",
                    "      document.body.appendChild(div);\n",
                    "\n",
                    "      const buffers = [];\n",
                    "      let downloaded = 0;\n",
                    "\n",
                    "      const channel = await google.colab.kernel.comms.open(id);\n",
                    "      // Send a message to notify the kernel that we're ready.\n",
                    "      channel.send({})\n",
                    "\n",
                    "      for await (const message of channel.messages) {\n",
                    "        // Send a message to notify the kernel that we're ready.\n",
                    "        channel.send({})\n",
                    "        if (message.buffers) {\n",
                    "          for (const buffer of message.buffers) {\n",
                    "            buffers.push(buffer);\n",
                    "            downloaded += buffer.byteLength;\n",
                    "            progress.value = downloaded;\n",
                    "          }\n",
                    "        }\n",
                    "      }\n",
                    "      const blob = new Blob(buffers, {type: 'application/binary'});\n",
                    "      const a = document.createElement('a');\n",
                    "      a.href = window.URL.createObjectURL(blob);\n",
                    "      a.download = filename;\n",
                    "      div.appendChild(a);\n",
                    "      a.click();\n",
                    "      div.remove();\n",
                    "    }\n",
                    "  "
                  ],
                  "text/plain": [
                    "<IPython.core.display.Javascript object>"
                  ]
                },
                "metadata": {}
              },
              {
                "output_type": "display_data",
                "data": {
                  "application/javascript": [
                    "download(\"download_df1703bf-2375-4f66-a7f8-2d4befcca0e5\", \"png4.png\", 5427)"
                  ],
                  "text/plain": [
                    "<IPython.core.display.Javascript object>"
                  ]
                },
                "metadata": {}
              }
            ],
            "_view_module": "@jupyter-widgets/output",
            "_model_module_version": "1.0.0",
            "_view_count": null,
            "_view_module_version": "1.0.0",
            "layout": "IPY_MODEL_52d2cbe4be0a440eb467b1309cb8ce44",
            "_model_module": "@jupyter-widgets/output"
          }
        },
        "52d2cbe4be0a440eb467b1309cb8ce44": {
          "model_module": "@jupyter-widgets/base",
          "model_name": "LayoutModel",
          "model_module_version": "1.2.0",
          "state": {
            "_view_name": "LayoutView",
            "grid_template_rows": null,
            "right": null,
            "justify_content": null,
            "_view_module": "@jupyter-widgets/base",
            "overflow": null,
            "_model_module_version": "1.2.0",
            "_view_count": null,
            "flex_flow": null,
            "width": null,
            "min_width": null,
            "border": null,
            "align_items": null,
            "bottom": null,
            "_model_module": "@jupyter-widgets/base",
            "top": null,
            "grid_column": null,
            "overflow_y": null,
            "overflow_x": null,
            "grid_auto_flow": null,
            "grid_area": null,
            "grid_template_columns": null,
            "flex": null,
            "_model_name": "LayoutModel",
            "justify_items": null,
            "grid_row": null,
            "max_height": null,
            "align_content": null,
            "visibility": null,
            "align_self": null,
            "height": null,
            "min_height": null,
            "padding": null,
            "grid_auto_rows": null,
            "grid_gap": null,
            "max_width": null,
            "order": null,
            "_view_module_version": "1.2.0",
            "grid_template_areas": null,
            "object_position": null,
            "object_fit": null,
            "grid_auto_columns": null,
            "margin": null,
            "display": null,
            "left": null
          }
        }
      }
    }
  },
  "cells": [
    {
      "cell_type": "code",
      "metadata": {
        "id": "jIpeZTtKwEX6"
      },
      "source": [
        "#@title Input{display-mode: \"form\"}\n",
        "Name = 'MAI Signature' #@param {type:\"string\"}\n",
        "Moderne_abstrakte_Kunst = 3 #@param {type:\"slider\", min:0, max:20, step:1}\n",
        "Zahl_der_Beispiele= 6 #@param {type:\"slider\", min:0, max:8, step:1}"
      ],
      "execution_count": 2,
      "outputs": []
    },
    {
      "cell_type": "code",
      "metadata": {
        "id": "PJoRFVAWy_VH",
        "colab": {
          "base_uri": "https://localhost:8080/"
        },
        "outputId": "6f1c9af3-0fcc-4825-ef2c-93e6b01a3e60"
      },
      "source": [
        "#@title Dateien klonen{display-mode: \"form\"}\n",
        "! git clone https://github.com/hansomatig/handwriting-synthesis.git"
      ],
      "execution_count": 3,
      "outputs": [
        {
          "output_type": "stream",
          "text": [
            "Cloning into 'handwriting-synthesis'...\n",
            "remote: Enumerating objects: 196, done.\u001b[K\n",
            "remote: Counting objects: 100% (196/196), done.\u001b[K\n",
            "remote: Compressing objects: 100% (138/138), done.\u001b[K\n",
            "remote: Total 196 (delta 77), reused 134 (delta 52), pack-reused 0\u001b[K\n",
            "Receiving objects: 100% (196/196), 43.66 MiB | 20.22 MiB/s, done.\n",
            "Resolving deltas: 100% (77/77), done.\n"
          ],
          "name": "stdout"
        }
      ]
    },
    {
      "cell_type": "code",
      "metadata": {
        "id": "K5orOCBNzL3W",
        "colab": {
          "base_uri": "https://localhost:8080/"
        },
        "outputId": "d1513b70-454e-44f9-d2d3-e19b3ab05fb3"
      },
      "source": [
        "#@title Ordnerstruktur verändern{display-mode: \"form\"}\n",
        "% cd handwriting-synthesis\n",
        "! git checkout TFConV1toV2"
      ],
      "execution_count": 4,
      "outputs": [
        {
          "output_type": "stream",
          "text": [
            "/content/handwriting-synthesis\n",
            "Branch 'TFConV1toV2' set up to track remote branch 'TFConV1toV2' from 'origin'.\n",
            "Switched to a new branch 'TFConV1toV2'\n"
          ],
          "name": "stdout"
        }
      ]
    },
    {
      "cell_type": "code",
      "metadata": {
        "id": "mPC56QrfzeOn",
        "colab": {
          "base_uri": "https://localhost:8080/"
        },
        "outputId": "5352a518-43fa-4b4f-b427-b4f13a155ade"
      },
      "source": [
        "#@title Zusätzliche Module installieren{display-mode: \"form\"}\n",
        "! pip install svgwrite\n",
        "! pip install cairosvg"
      ],
      "execution_count": 5,
      "outputs": [
        {
          "output_type": "stream",
          "text": [
            "Collecting svgwrite\n",
            "  Downloading svgwrite-1.4.1-py3-none-any.whl (66 kB)\n",
            "\u001b[?25l\r\u001b[K     |█████                           | 10 kB 23.7 MB/s eta 0:00:01\r\u001b[K     |█████████▉                      | 20 kB 28.9 MB/s eta 0:00:01\r\u001b[K     |██████████████▊                 | 30 kB 25.4 MB/s eta 0:00:01\r\u001b[K     |███████████████████▋            | 40 kB 19.8 MB/s eta 0:00:01\r\u001b[K     |████████████████████████▌       | 51 kB 16.9 MB/s eta 0:00:01\r\u001b[K     |█████████████████████████████▍  | 61 kB 11.7 MB/s eta 0:00:01\r\u001b[K     |████████████████████████████████| 66 kB 3.8 MB/s \n",
            "\u001b[?25hInstalling collected packages: svgwrite\n",
            "Successfully installed svgwrite-1.4.1\n",
            "Collecting cairosvg\n",
            "  Downloading CairoSVG-2.5.2-py3-none-any.whl (45 kB)\n",
            "\u001b[K     |████████████████████████████████| 45 kB 3.0 MB/s \n",
            "\u001b[?25hRequirement already satisfied: defusedxml in /usr/local/lib/python3.7/dist-packages (from cairosvg) (0.7.1)\n",
            "Collecting cairocffi\n",
            "  Downloading cairocffi-1.2.0.tar.gz (70 kB)\n",
            "\u001b[K     |████████████████████████████████| 70 kB 6.5 MB/s \n",
            "\u001b[?25hRequirement already satisfied: pillow in /usr/local/lib/python3.7/dist-packages (from cairosvg) (7.1.2)\n",
            "Collecting tinycss2\n",
            "  Downloading tinycss2-1.1.0-py3-none-any.whl (21 kB)\n",
            "Collecting cssselect2\n",
            "  Downloading cssselect2-0.4.1-py3-none-any.whl (13 kB)\n",
            "Requirement already satisfied: cffi>=1.1.0 in /usr/local/lib/python3.7/dist-packages (from cairocffi->cairosvg) (1.14.6)\n",
            "Requirement already satisfied: pycparser in /usr/local/lib/python3.7/dist-packages (from cffi>=1.1.0->cairocffi->cairosvg) (2.20)\n",
            "Requirement already satisfied: webencodings in /usr/local/lib/python3.7/dist-packages (from cssselect2->cairosvg) (0.5.1)\n",
            "Building wheels for collected packages: cairocffi\n",
            "  Building wheel for cairocffi (setup.py) ... \u001b[?25l\u001b[?25hdone\n",
            "  Created wheel for cairocffi: filename=cairocffi-1.2.0-py3-none-any.whl size=89562 sha256=f8339d3479cc9df47c6a26cc34871641f18808be063b83a59b03e0cb502064f4\n",
            "  Stored in directory: /root/.cache/pip/wheels/e2/ca/86/9db2824f203afe4bdf5aa6ead017f352fcc90e92f095b78871\n",
            "Successfully built cairocffi\n",
            "Installing collected packages: tinycss2, cssselect2, cairocffi, cairosvg\n",
            "Successfully installed cairocffi-1.2.0 cairosvg-2.5.2 cssselect2-0.4.1 tinycss2-1.1.0\n"
          ],
          "name": "stdout"
        }
      ]
    },
    {
      "cell_type": "code",
      "metadata": {
        "id": "zM_nFdA3zQTx",
        "colab": {
          "base_uri": "https://localhost:8080/"
        },
        "outputId": "7683e4d2-ed79-4470-b35e-872e0859a9ce"
      },
      "source": [
        "#@title Autoreload{display-mode: \"form\"}\n",
        "%load_ext autoreload\n",
        "%autoreload 2\n",
        "from demo import Hand"
      ],
      "execution_count": 6,
      "outputs": [
        {
          "output_type": "stream",
          "text": [
            "WARNING:tensorflow:From /usr/local/lib/python3.7/dist-packages/tensorflow/python/compat/v2_compat.py:101: disable_resource_variables (from tensorflow.python.ops.variable_scope) is deprecated and will be removed in a future version.\n",
            "Instructions for updating:\n",
            "non-resource variables are not supported in the long term\n"
          ],
          "name": "stdout"
        }
      ]
    },
    {
      "cell_type": "code",
      "metadata": {
        "id": "HSziAJHo3pxp"
      },
      "source": [
        "#@title Tensorflow einrichten {display-mode: \"form\"}\n",
        "import tensorflow as tf\n",
        "tf.compat.v1.disable_eager_execution()"
      ],
      "execution_count": 7,
      "outputs": []
    },
    {
      "cell_type": "code",
      "metadata": {
        "id": "Hk9QJaM-gtN_",
        "colab": {
          "base_uri": "https://localhost:8080/"
        },
        "outputId": "d997d667-2797-4e31-9aa9-72203f38e662"
      },
      "source": [
        "#@title Generator{display-mode: \"form\"}\n",
        "tf.compat.v1.logging.set_verbosity(tf.compat.v1.logging.ERROR)\n",
        "from IPython.display import display, Image\n",
        "import cairosvg\n",
        "from keras.models import load_model\n",
        "import PIL\n",
        "import numpy as np\n",
        "\n",
        "model = load_model('keras_model.h5')\n",
        "\n",
        "\n",
        "\n",
        "\n",
        "lines = [\" \"*Moderne_abstrakte_Kunst + Name]\n",
        "biases = [2.5 for i in lines]\n",
        "styles = [4 for i in lines]\n",
        "hand = Hand()\n",
        "predictions = {}\n",
        "\n",
        "for i in range(10):\n",
        "    hand.write(\n",
        "        filename=f'img/img{i}.svg',\n",
        "        lines=lines,\n",
        "        styles=styles,\n",
        "        biases=biases,\n",
        "    )\n",
        "    cairosvg.svg2png(url=f'img/img{i}.svg', write_to=f'img/png{i}.png')\n",
        "\n",
        "    data = np.ndarray(shape=(1, 224, 224, 3), dtype=np.float32)\n",
        "    image = PIL.Image.open(f'img/png{i}.png')\n",
        "    image = PIL.ImageOps.fit(image, (224, 224), PIL.Image.ANTIALIAS)\n",
        "    image_array = np.asarray(image)\n",
        "    normalized_image_array = (image_array.astype(np.float32) / 127.0) - 1\n",
        "    data[0] = normalized_image_array\n",
        "\n",
        "    prediction = model.predict(data)\n",
        "    predictions[i] = prediction[0][0]\n",
        "\n",
        "predictions = sorted(predictions.items(), key=lambda x: x[1], reverse=True)"
      ],
      "execution_count": 8,
      "outputs": [
        {
          "output_type": "stream",
          "text": [
            "/usr/local/lib/python3.7/dist-packages/keras/layers/legacy_rnn/rnn_cell_impl.py:901: UserWarning: `tf.nn.rnn_cell.LSTMCell` is deprecated and will be removed in a future version. This class is equivalent as `tf.keras.layers.LSTMCell`, and will be replaced by that in Tensorflow 2.0.\n",
            "  warnings.warn(\"`tf.nn.rnn_cell.LSTMCell` is deprecated and will be \"\n",
            "/usr/local/lib/python3.7/dist-packages/keras/engine/base_layer_v1.py:1684: UserWarning: `layer.add_variable` is deprecated and will be removed in a future version. Please use `layer.add_weight` method instead.\n",
            "  warnings.warn('`layer.add_variable` is deprecated and '\n",
            "/usr/local/lib/python3.7/dist-packages/keras/engine/training.py:2470: UserWarning: `Model.state_updates` will be removed in a future version. This property should not be used in TensorFlow 2.0, as `updates` are applied automatically.\n",
            "  warnings.warn('`Model.state_updates` will be removed in a future version. '\n"
          ],
          "name": "stderr"
        }
      ]
    },
    {
      "cell_type": "code",
      "metadata": {
        "id": "2WIpMA79zkkL",
        "colab": {
          "base_uri": "https://localhost:8080/",
          "height": 1000,
          "referenced_widgets": [
            "0689a7b269d54fda90fb1ef2bece51b0",
            "2c3443628e664d21b0808f5b68575c20",
            "844fd39d62834919a2fb27d30fbae95b",
            "dd56fe5ac8624177b1eb62701a49b66d",
            "c6656e659f3c4c76afe8befee3292436",
            "1735d5dec9524b2ab6475aef43088585",
            "40dbd1aeed2f4089b36c270cfc7f596a",
            "1b1213b03a084490b88cc97617e75e6f",
            "caf0740cc03f451485712d46ce511750",
            "882a7c03569e47c8941081c3a65af7a6",
            "c4aa68b5c85d4373ad09b4ad77454f2d",
            "dc8a05262b804ac289b69c7eee028e0a",
            "24db0d5054ed44f29b5ff02f270f24ff",
            "38f204e9124c4f7da82ae6b7a0052c86",
            "27d66ccdbf40436caadb54c278d493dd",
            "f64a183b4896482182be68399d58f177",
            "95684ddc3e82431c8428215ebf40fafc",
            "355c9116031d44fe941ff8858ede8035",
            "15ee775aef7b4979853996ba70952ece",
            "7cf0be48537f4f119ade15374dbc24f3",
            "ce5c45b51d044480b4ab7e21fb5af503",
            "03d99c6d5c49444fa70e7664cd5d8e0f",
            "899a94c5bad24aab9c1f857dfc8ce82a",
            "4b66dc021da14844a037ab0c50ed64e5",
            "e2ccb25bba4c476e98648b9563eb4630",
            "76264d924faa4461898d70197eba0102",
            "31363f9c72274de0a28053c6bb549680",
            "348ba0ae3048498584814a88e0819402",
            "664505bf74c148dfb0484d83ab53b037",
            "52d2cbe4be0a440eb467b1309cb8ce44"
          ]
        },
        "outputId": "ec8224ac-8cbd-467f-9b9b-0cf11014e760"
      },
      "source": [
        "#@title Bestergebnisse anzeigen{display-mode: \"form\"}\n",
        "import ipywidgets as widgets\n",
        "from IPython.display import display\n",
        "import functools\n",
        "\n",
        "def on_button_clicked(b, path=''):\n",
        "    with output:\n",
        "        from google.colab import files\n",
        "        files.download(filename=f'img/png{path}.png')\n",
        "\n",
        "button = widgets.Button(description=\"Click Me!\")\n",
        "output = widgets.Output()\n",
        "for i in range(Zahl_der_Beispiele):\n",
        "    print(str(predictions[i][1]*100) + '%')\n",
        "    display(Image(filename=f'img/png{predictions[i][0]}.png'))\n",
        "    button = widgets.Button(description=\"Download\", layout=widgets.Layout(width='50%', height='30px', display=\"inline-box\", border=\"solid\", margin='0 0 50px 0'))\n",
        "    output = widgets.Output()\n",
        "    button.on_click(functools.partial(on_button_clicked, path=predictions[i][0]))\n",
        "    display(button, output)"
      ],
      "execution_count": 12,
      "outputs": [
        {
          "output_type": "stream",
          "text": [
            "56.54639005661011%\n"
          ],
          "name": "stdout"
        },
        {
          "output_type": "display_data",
          "data": {
            "image/png": "[encoded data removed]",
            "text/plain": [
              "<IPython.core.display.Image object>"
            ]
          },
          "metadata": {}
        },
        {
          "output_type": "display_data",
          "data": {
            "application/vnd.jupyter.widget-view+json": {
              "model_id": "0689a7b269d54fda90fb1ef2bece51b0",
              "version_minor": 0,
              "version_major": 2
            },
            "text/plain": [
              "Button(description='Download', layout=Layout(border='solid', display='inline-box', height='30px', margin='0 0 …"
            ]
          },
          "metadata": {}
        },
        {
          "output_type": "display_data",
          "data": {
            "application/vnd.jupyter.widget-view+json": {
              "model_id": "dd56fe5ac8624177b1eb62701a49b66d",
              "version_minor": 0,
              "version_major": 2
            },
            "text/plain": [
              "Output()"
            ]
          },
          "metadata": {}
        },
        {
          "output_type": "stream",
          "text": [
            "51.053863763809204%\n"
          ],
          "name": "stdout"
        },
        {
          "output_type": "display_data",
          "data": {
            "image/png": "[encoded data removed]",
            "text/plain": [
              "<IPython.core.display.Image object>"
            ]
          },
          "metadata": {}
        },
        {
          "output_type": "display_data",
          "data": {
            "application/vnd.jupyter.widget-view+json": {
              "model_id": "1735d5dec9524b2ab6475aef43088585",
              "version_minor": 0,
              "version_major": 2
            },
            "text/plain": [
              "Button(description='Download', layout=Layout(border='solid', display='inline-box', height='30px', margin='0 0 …"
            ]
          },
          "metadata": {}
        },
        {
          "output_type": "display_data",
          "data": {
            "application/vnd.jupyter.widget-view+json": {
              "model_id": "caf0740cc03f451485712d46ce511750",
              "version_minor": 0,
              "version_major": 2
            },
            "text/plain": [
              "Output()"
            ]
          },
          "metadata": {}
        },
        {
          "output_type": "stream",
          "text": [
            "50.820934772491455%\n"
          ],
          "name": "stdout"
        },
        {
          "output_type": "display_data",
          "data": {
            "image/png": "[encoded data removed]",
            "text/plain": [
              "<IPython.core.display.Image object>"
            ]
          },
          "metadata": {}
        },
        {
          "output_type": "display_data",
          "data": {
            "application/vnd.jupyter.widget-view+json": {
              "model_id": "c4aa68b5c85d4373ad09b4ad77454f2d",
              "version_minor": 0,
              "version_major": 2
            },
            "text/plain": [
              "Button(description='Download', layout=Layout(border='solid', display='inline-box', height='30px', margin='0 0 …"
            ]
          },
          "metadata": {}
        },
        {
          "output_type": "display_data",
          "data": {
            "application/vnd.jupyter.widget-view+json": {
              "model_id": "38f204e9124c4f7da82ae6b7a0052c86",
              "version_minor": 0,
              "version_major": 2
            },
            "text/plain": [
              "Output()"
            ]
          },
          "metadata": {}
        },
        {
          "output_type": "stream",
          "text": [
            "43.54647099971771%\n"
          ],
          "name": "stdout"
        },
        {
          "output_type": "display_data",
          "data": {
            "image/png": "[encoded data removed]",
            "text/plain": [
              "<IPython.core.display.Image object>"
            ]
          },
          "metadata": {}
        },
        {
          "output_type": "display_data",
          "data": {
            "application/vnd.jupyter.widget-view+json": {
              "model_id": "f64a183b4896482182be68399d58f177",
              "version_minor": 0,
              "version_major": 2
            },
            "text/plain": [
              "Button(description='Download', layout=Layout(border='solid', display='inline-box', height='30px', margin='0 0 …"
            ]
          },
          "metadata": {}
        },
        {
          "output_type": "display_data",
          "data": {
            "application/vnd.jupyter.widget-view+json": {
              "model_id": "15ee775aef7b4979853996ba70952ece",
              "version_minor": 0,
              "version_major": 2
            },
            "text/plain": [
              "Output()"
            ]
          },
          "metadata": {}
        },
        {
          "output_type": "stream",
          "text": [
            "37.60904371738434%\n"
          ],
          "name": "stdout"
        },
        {
          "output_type": "display_data",
          "data": {
            "image/png": "[encoded data removed]",
            "text/plain": [
              "<IPython.core.display.Image object>"
            ]
          },
          "metadata": {}
        },
        {
          "output_type": "display_data",
          "data": {
            "application/vnd.jupyter.widget-view+json": {
              "model_id": "ce5c45b51d044480b4ab7e21fb5af503",
              "version_minor": 0,
              "version_major": 2
            },
            "text/plain": [
              "Button(description='Download', layout=Layout(border='solid', display='inline-box', height='30px', margin='0 0 …"
            ]
          },
          "metadata": {}
        },
        {
          "output_type": "display_data",
          "data": {
            "application/vnd.jupyter.widget-view+json": {
              "model_id": "4b66dc021da14844a037ab0c50ed64e5",
              "version_minor": 0,
              "version_major": 2
            },
            "text/plain": [
              "Output()"
            ]
          },
          "metadata": {}
        },
        {
          "output_type": "stream",
          "text": [
            "29.91916537284851%\n"
          ],
          "name": "stdout"
        },
        {
          "output_type": "display_data",
          "data": {
            "image/png": "[encoded data removed]",
            "text/plain": [
              "<IPython.core.display.Image object>"
            ]
          },
          "metadata": {}
        },
        {
          "output_type": "display_data",
          "data": {
            "application/vnd.jupyter.widget-view+json": {
              "model_id": "76264d924faa4461898d70197eba0102",
              "version_minor": 0,
              "version_major": 2
            },
            "text/plain": [
              "Button(description='Download', layout=Layout(border='solid', display='inline-box', height='30px', margin='0 0 …"
            ]
          },
          "metadata": {}
        },
        {
          "output_type": "display_data",
          "data": {
            "application/vnd.jupyter.widget-view+json": {
              "model_id": "664505bf74c148dfb0484d83ab53b037",
              "version_minor": 0,
              "version_major": 2
            },
            "text/plain": [
              "Output()"
            ]
          },
          "metadata": {}
        }
      ]
    }
  ]
}