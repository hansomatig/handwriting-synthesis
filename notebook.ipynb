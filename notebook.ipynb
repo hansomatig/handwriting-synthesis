{
  "nbformat": 4,
  "nbformat_minor": 0,
  "metadata": {
    "colab": {
      "name": "notebook.ipynb",
      "provenance": [],
      "collapsed_sections": [],
      "include_colab_link": true
    },
    "kernelspec": {
      "name": "python3",
      "display_name": "Python 3"
    },
    "language_info": {
      "name": "python"
    },
    "accelerator": "GPU"
  },
  "cells": [
    {
      "cell_type": "markdown",
      "metadata": {
        "id": "view-in-github",
        "colab_type": "text"
      },
      "source": [
        "<a href=\"https://colab.research.google.com/github/hansomatig/handwriting-synthesis/blob/TFConV1toV2/notebook.ipynb\" target=\"_parent\"><img src=\"https://colab.research.google.com/assets/colab-badge.svg\" alt=\"Open In Colab\"/></a>"
      ]
    },
    {
      "cell_type": "markdown",
      "metadata": {
        "id": "mlbm_aXNgv4H"
      },
      "source": [
        "Git importieren\n"
      ]
    },
    {
      "cell_type": "code",
      "metadata": {
        "id": "PJoRFVAWy_VH"
      },
      "source": [
        "! git clone https://github.com/hansomatig/handwriting-synthesis.git"
      ],
      "execution_count": null,
      "outputs": []
    },
    {
      "cell_type": "code",
      "metadata": {
        "id": "my8UTOMHzJ7G"
      },
      "source": [
        "% cd handwriting-synthesis"
      ],
      "execution_count": null,
      "outputs": []
    },
    {
      "cell_type": "code",
      "metadata": {
        "id": "K5orOCBNzL3W"
      },
      "source": [
        "! git checkout TFConV1toV2"
      ],
      "execution_count": null,
      "outputs": []
    },
    {
      "cell_type": "code",
      "metadata": {
        "id": "mPC56QrfzeOn"
      },
      "source": [
        "! pip install svgwrite"
      ],
      "execution_count": null,
      "outputs": []
    },
    {
      "cell_type": "code",
      "metadata": {
        "id": "zM_nFdA3zQTx"
      },
      "source": [
        "%load_ext autoreload\n",
        "%autoreload 2\n",
        "from demo import Hand"
      ],
      "execution_count": null,
      "outputs": []
    },
    {
      "cell_type": "code",
      "metadata": {
        "id": "HSziAJHo3pxp"
      },
      "source": [
        "import tensorflow as tf\n",
        "tf.compat.v1.disable_eager_execution()"
      ],
      "execution_count": 6,
      "outputs": []
    },
    {
      "cell_type": "markdown",
      "metadata": {
        "id": "gDjqnzmggrNm"
      },
      "source": [
        "Model importieren\n",
        "\n"
      ]
    },
    {
      "cell_type": "code",
      "metadata": {
        "id": "Hk9QJaM-gtN_"
      },
      "source": [
        "from keras.models import load_model\n",
        "from PIL import Image, ImageOps\n",
        "import numpy as np\n",
        "\n",
        " \n",
        "\n",
        "# Load the model\n",
        "model = load_model('keras_model.h5')\n",
        "\n",
        " \n",
        "\n",
        "# Create the array of the right shape to feed into the keras model\n",
        "# The 'length' or number of images you can put into the array is\n",
        "# determined by the first position in the shape tuple, in this case 1.\n",
        "data = np.ndarray(shape=(1, 224, 224, 3), dtype=np.float32)\n",
        "# Replace this with the path to your image\n",
        "image = Image.open('<IMAGE_PATH>')\n",
        "#resize the image to a 224x224 with the same strategy as in TM2:\n",
        "#resizing the image to be at least 224x224 and then cropping from the center\n",
        "size = (224, 224)\n",
        "image = ImageOps.fit(image, size, Image.ANTIALIAS)\n",
        "\n",
        " \n",
        "\n",
        "#turn the image into a numpy array\n",
        "image_array = np.asarray(image)\n",
        "# Normalize the image\n",
        "normalized_image_array = (image_array.astype(np.float32) / 127.0) - 1\n",
        "# Load the image into the array\n",
        "data[0] = normalized_image_array\n",
        "\n",
        " \n",
        "\n",
        "# run the inference\n",
        "prediction = model.predict(data)\n",
        "print(prediction)\n",
        " "
      ],
      "execution_count": null,
      "outputs": []
    },
    {
      "cell_type": "markdown",
      "metadata": {
        "id": "FVahqBpzgzAB"
      },
      "source": [
        "Ausführen"
      ]
    },
    {
      "cell_type": "code",
      "metadata": {
        "id": "kvAQEZ2BbI8X"
      },
      "source": [
        "lines = [\"   Wladimir Angela Putin\"]\n",
        "biases = [.75 for i in lines]\n",
        "styles = [9 for i in lines]\n",
        "stroke_widths = [1 for i in lines]\n",
        "hand = Hand()\n",
        "\n",
        "for i in range(105, 110):\n",
        "  hand = Hand()\n",
        "  hand.write(\n",
        "      filename='/content/handwriting-synthesis/img/img{}.svg'.format(i),\n",
        "      lines=lines,\n",
        "      styles = [4],\n",
        "      biases = [2.5],\n",
        "  )"
      ],
      "execution_count": null,
      "outputs": []
    },
    {
      "cell_type": "code",
      "metadata": {
        "id": "xLMxJhSrUBwA"
      },
      "source": [
        "from IPython.display import display, Image\n",
        "display(Image(filename='/content/handwriting-synthesis/img/nice_png/png.png')\n",
        "  "
      ],
      "execution_count": null,
      "outputs": []
    },
    {
      "cell_type": "code",
      "metadata": {
        "id": "HC_FISHiT2kO"
      },
      "source": [
        "!pip install cairosvg\n",
        "import cairosvg\n",
        "cairosvg.svg2png(url=\"/content/handwriting-synthesis/img/img.svg\", write_to=\"/content/handwriting-synthesis/img/nice_png/png.png\")"
      ],
      "execution_count": null,
      "outputs": []
    }
  ]
}